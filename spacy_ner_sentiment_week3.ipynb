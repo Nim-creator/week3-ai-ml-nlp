{
  "nbformat": 4,
  "nbformat_minor": 0,
  "metadata": {
    "colab": {
      "provenance": [],
      "authorship_tag": "ABX9TyM0Q5hIW2IMlXNFf50K13Ll",
      "include_colab_link": true
    },
    "kernelspec": {
      "name": "python3",
      "display_name": "Python 3"
    },
    "language_info": {
      "name": "python"
    }
  },
  "cells": [
    {
      "cell_type": "markdown",
      "metadata": {
        "id": "view-in-github",
        "colab_type": "text"
      },
      "source": [
        "<a href=\"https://colab.research.google.com/github/Nim-creator/week3-ai-ml-nlp/blob/main/spacy_ner_sentiment_week3.ipynb\" target=\"_parent\"><img src=\"https://colab.research.google.com/assets/colab-badge.svg\" alt=\"Open In Colab\"/></a>"
      ]
    },
    {
      "cell_type": "code",
      "execution_count": 1,
      "metadata": {
        "id": "aen_eIm2FPhM"
      },
      "outputs": [],
      "source": [
        "!pip install -q spacy\n",
        "import spacy\n",
        "from spacy import displacy\n",
        "\n",
        "# Load English NLP model\n",
        "nlp = spacy.load(\"en_core_web_sm\")\n"
      ]
    },
    {
      "cell_type": "code",
      "source": [
        "sample_reviews = [\n",
        "    \"I love my new Apple iPhone 13. The camera is incredible!\",\n",
        "    \"The Samsung Galaxy S22 has amazing battery life.\",\n",
        "    \"I’m disappointed in the Dell XPS. It keeps overheating.\",\n",
        "    \"Sony headphones are the best I've used so far.\",\n",
        "    \"Avoid the cheap Lenovo tablet. It crashes a lot.\"\n",
        "]\n"
      ],
      "metadata": {
        "id": "Crw_9wpyFZFO"
      },
      "execution_count": 2,
      "outputs": []
    },
    {
      "cell_type": "code",
      "source": [
        "for review in sample_reviews:\n",
        "    doc = nlp(review)\n",
        "    print(f\"\\nReview: {review}\")\n",
        "    print(\"Entities:\")\n",
        "    for ent in doc.ents:\n",
        "        print(f\" - {ent.text} ({ent.label_})\")\n"
      ],
      "metadata": {
        "colab": {
          "base_uri": "https://localhost:8080/"
        },
        "id": "hIYhuhT4Fc6q",
        "outputId": "e3d70841-f6ee-46bc-ca74-dc7866bff884"
      },
      "execution_count": 3,
      "outputs": [
        {
          "output_type": "stream",
          "name": "stdout",
          "text": [
            "\n",
            "Review: I love my new Apple iPhone 13. The camera is incredible!\n",
            "Entities:\n",
            " - Apple (ORG)\n",
            " - iPhone 13 (PRODUCT)\n",
            "\n",
            "Review: The Samsung Galaxy S22 has amazing battery life.\n",
            "Entities:\n",
            "\n",
            "Review: I’m disappointed in the Dell XPS. It keeps overheating.\n",
            "Entities:\n",
            "\n",
            "Review: Sony headphones are the best I've used so far.\n",
            "Entities:\n",
            " - Sony (ORG)\n",
            "\n",
            "Review: Avoid the cheap Lenovo tablet. It crashes a lot.\n",
            "Entities:\n",
            " - Lenovo (ORG)\n"
          ]
        }
      ]
    },
    {
      "cell_type": "code",
      "source": [
        "positive_words = [\"love\", \"amazing\", \"best\", \"incredible\"]\n",
        "negative_words = [\"disappointed\", \"avoid\", \"crashes\", \"overheating\"]\n",
        "\n",
        "def analyze_sentiment(text):\n",
        "    score = 0\n",
        "    for word in positive_words:\n",
        "        if word in text.lower():\n",
        "            score += 1\n",
        "    for word in negative_words:\n",
        "        if word in text.lower():\n",
        "            score -= 1\n",
        "    return \"Positive\" if score > 0 else \"Negative\" if score < 0 else \"Neutral\"\n",
        "\n",
        "for review in sample_reviews:\n",
        "    sentiment = analyze_sentiment(review)\n",
        "    print(f\"\\nReview: \\\"{review}\\\" → Sentiment: {sentiment}\")\n"
      ],
      "metadata": {
        "colab": {
          "base_uri": "https://localhost:8080/"
        },
        "id": "rYwv0OHpFjMk",
        "outputId": "9f1a6f95-4ac3-4763-8d2d-a058ebb33488"
      },
      "execution_count": 4,
      "outputs": [
        {
          "output_type": "stream",
          "name": "stdout",
          "text": [
            "\n",
            "Review: \"I love my new Apple iPhone 13. The camera is incredible!\" → Sentiment: Positive\n",
            "\n",
            "Review: \"The Samsung Galaxy S22 has amazing battery life.\" → Sentiment: Positive\n",
            "\n",
            "Review: \"I’m disappointed in the Dell XPS. It keeps overheating.\" → Sentiment: Negative\n",
            "\n",
            "Review: \"Sony headphones are the best I've used so far.\" → Sentiment: Positive\n",
            "\n",
            "Review: \"Avoid the cheap Lenovo tablet. It crashes a lot.\" → Sentiment: Negative\n"
          ]
        }
      ]
    },
    {
      "cell_type": "code",
      "source": [],
      "metadata": {
        "id": "ZuRO1pSwFngD"
      },
      "execution_count": null,
      "outputs": []
    }
  ]
}